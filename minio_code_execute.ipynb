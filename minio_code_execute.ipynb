{
 "cells": [
  {
   "cell_type": "markdown",
   "id": "02937ce1",
   "metadata": {},
   "source": [
    "To directly pass a script retrieved from MinIO to a Docker container for execution and then stream the output back as an annotated response, we'll need to adjust the workflow to include:\n",
    "\n",
    "1. **Retrieving the script** from MinIO.\n",
    "2. **Executing the script inside a Docker container**.\n",
    "3. **Capturing the script's output** and streaming it back in the response.\n",
    "\n",
    "This process involves using the Docker SDK for Python to manage container execution and the MinIO Python client (`minio`) for accessing scripts in MinIO storage. Note that to fully implement this, you'll need appropriate error handling and security measures, which are simplified in this example for brevity.\n",
    "\n",
    "First, ensure you have the Docker SDK and MinIO client installed:\n",
    "\n"
   ]
  },
  {
   "cell_type": "code",
   "execution_count": 1,
   "id": "b1a6b5eb",
   "metadata": {
    "collapsed": true
   },
   "outputs": [
    {
     "name": "stdout",
     "output_type": "stream",
     "text": [
      "Requirement already satisfied: docker in c:\\users\\david\\appdata\\local\\packages\\pythonsoftwarefoundation.python.3.9_qbz5n2kfra8p0\\localcache\\local-packages\\python39\\site-packages (6.0.1)\n",
      "Requirement already satisfied: minio in c:\\users\\david\\appdata\\local\\packages\\pythonsoftwarefoundation.python.3.9_qbz5n2kfra8p0\\localcache\\local-packages\\python39\\site-packages (7.1.16)\n",
      "Requirement already satisfied: packaging>=14.0 in c:\\users\\david\\appdata\\local\\packages\\pythonsoftwarefoundation.python.3.9_qbz5n2kfra8p0\\localcache\\local-packages\\python39\\site-packages (from docker) (23.2)\n",
      "Requirement already satisfied: requests>=2.26.0 in c:\\users\\david\\appdata\\local\\packages\\pythonsoftwarefoundation.python.3.9_qbz5n2kfra8p0\\localcache\\local-packages\\python39\\site-packages (from docker) (2.31.0)\n",
      "Requirement already satisfied: urllib3>=1.26.0 in c:\\users\\david\\appdata\\local\\packages\\pythonsoftwarefoundation.python.3.9_qbz5n2kfra8p0\\localcache\\local-packages\\python39\\site-packages (from docker) (1.26.15)\n",
      "Requirement already satisfied: websocket-client>=0.32.0 in c:\\users\\david\\appdata\\local\\packages\\pythonsoftwarefoundation.python.3.9_qbz5n2kfra8p0\\localcache\\local-packages\\python39\\site-packages (from docker) (1.5.1)\n",
      "Requirement already satisfied: pywin32>=304 in c:\\users\\david\\appdata\\local\\packages\\pythonsoftwarefoundation.python.3.9_qbz5n2kfra8p0\\localcache\\local-packages\\python39\\site-packages (from docker) (306)\n",
      "Requirement already satisfied: certifi in c:\\users\\david\\appdata\\local\\packages\\pythonsoftwarefoundation.python.3.9_qbz5n2kfra8p0\\localcache\\local-packages\\python39\\site-packages (from minio) (2022.12.7)\n",
      "Requirement already satisfied: charset-normalizer<4,>=2 in c:\\users\\david\\appdata\\local\\packages\\pythonsoftwarefoundation.python.3.9_qbz5n2kfra8p0\\localcache\\local-packages\\python39\\site-packages (from requests>=2.26.0->docker) (3.1.0)\n",
      "Requirement already satisfied: idna<4,>=2.5 in c:\\users\\david\\appdata\\local\\packages\\pythonsoftwarefoundation.python.3.9_qbz5n2kfra8p0\\localcache\\local-packages\\python39\\site-packages (from requests>=2.26.0->docker) (2.10)\n"
     ]
    },
    {
     "name": "stderr",
     "output_type": "stream",
     "text": [
      "DEPRECATION: torchsde 0.2.5 has a non-standard dependency specifier numpy>=1.19.*; python_version >= \"3.7\". pip 24.0 will enforce this behaviour change. A possible replacement is to upgrade to a newer version of torchsde or contact the author to suggest that they release a version with a conforming dependency specifiers. Discussion can be found at https://github.com/pypa/pip/issues/12063\n"
     ]
    }
   ],
   "source": [
    "!pip install docker minio"
   ]
  },
  {
   "cell_type": "markdown",
   "id": "70b86a86",
   "metadata": {},
   "source": [
    "\n",
    "### API Implementation with FastAPI\n",
    "\n",
    "Here's an example FastAPI application that demonstrates this process:"
   ]
  },
  {
   "cell_type": "code",
   "execution_count": 3,
   "id": "f9294732",
   "metadata": {},
   "outputs": [],
   "source": [
    "from fastapi import FastAPI, HTTPException\n",
    "from minio import Minio\n",
    "from docker import from_env as docker_from_env\n",
    "from docker.models.containers import Container\n",
    "import tempfile\n",
    "\n",
    "app = FastAPI()\n",
    "\n",
    "# Configure MinIO client\n",
    "minio_client = Minio(\n",
    "    \"cda-DESKTOP:9000\",\n",
    "    access_key=\"cda_cdaprod\",\n",
    "    secret_key=\"cda_cdaprod\",\n",
    "    secure=False\n",
    ")\n",
    "\n",
    "# Configure Docker client\n",
    "docker_client = docker_from_env()\n",
    "\n",
    "@app.post(\"/execute\")\n",
    "async def execute_script(script_name: str):\n",
    "    try:\n",
    "        # Retrieve script from MinIO\n",
    "        response = minio_client.get_object(\"notebooks-data-bucket\", script_name)\n",
    "        script_content = response.read().decode('utf-8')\n",
    "\n",
    "        # Create a temporary file to store the script\n",
    "        with tempfile.NamedTemporaryFile(suffix=\".py\", delete=False) as script_file:\n",
    "            script_file.write(script_content.encode())\n",
    "            script_path = script_file.name\n",
    "\n",
    "        # Execute the script inside a Docker container\n",
    "        container: Container = docker_client.containers.run(\n",
    "            image=\"python:3.8-slim\",  # Ensure this image has necessary packages installed\n",
    "            command=f\"python {script_path}\",\n",
    "            volumes={script_path: {'bind': script_path, 'mode': 'ro'}},\n",
    "            detach=True,\n",
    "            remove=True\n",
    "        )\n",
    "\n",
    "        # Wait for the container to finish and capture output\n",
    "        result = container.wait()\n",
    "        output = container.logs().decode('utf-8')\n",
    "\n",
    "    except Exception as e:\n",
    "        raise HTTPException(status_code=500, detail=str(e))\n",
    "\n",
    "    return {\"script_output\": output}"
   ]
  },
  {
   "cell_type": "code",
   "execution_count": null,
   "id": "fe98a6c6",
   "metadata": {},
   "outputs": [],
   "source": [
    "!pip install minio"
   ]
  },
  {
   "cell_type": "code",
   "execution_count": 1,
   "id": "55cd4194",
   "metadata": {},
   "outputs": [
    {
     "name": "stdout",
     "output_type": "stream",
     "text": [
      "Uploaded 'tmpgedq6yo8.py' to bucket 'python'.\n"
     ]
    }
   ],
   "source": [
    "from minio import Minio\n",
    "from tempfile import NamedTemporaryFile\n",
    "import os\n",
    "\n",
    "# Assuming minio_client is already initiated\n",
    "# Example: minio_client = Minio(\"play.min.io\", access_key=\"yourAccessKey\", secret_key=\"yourSecretKey\", secure=True)\n",
    "minio_client = Minio(\n",
    "    \"cda-DESKTOP:9000\",\n",
    "    access_key=\"cda_cdaprod\",\n",
    "    secret_key=\"cda_cdaprod\",\n",
    "    secure=False\n",
    ")\n",
    "\n",
    "# Define the content of your Python script\n",
    "python_script_content = \"\"\"\n",
    "def say_hello(name):\n",
    "    print(f\"Hello, {name}!\")\n",
    "\n",
    "if __name__ == \"__main__\":\n",
    "    say_hello(\"World\")\n",
    "\"\"\"\n",
    "\n",
    "# Create a temporary file to write the script content\n",
    "with NamedTemporaryFile(delete=False, suffix=\".py\") as temp_file:\n",
    "    temp_file.write(python_script_content.encode())\n",
    "    temp_file_path = temp_file.name  # Save the path for later use\n",
    "\n",
    "# Upload the file to the MinIO bucket \"python\"\n",
    "bucket_name = \"python\"\n",
    "object_name = os.path.basename(temp_file_path)  # Use the file name as the object name in MinIO\n",
    "\n",
    "try:\n",
    "    # Ensure the bucket exists\n",
    "    if not minio_client.bucket_exists(bucket_name):\n",
    "        minio_client.make_bucket(bucket_name)\n",
    "    \n",
    "    # Upload the file\n",
    "    minio_client.fput_object(bucket_name, object_name, temp_file_path)\n",
    "    print(f\"Uploaded '{object_name}' to bucket '{bucket_name}'.\")\n",
    "finally:\n",
    "    # Clean up the temporary file\n",
    "    os.remove(temp_file_path)"
   ]
  },
  {
   "cell_type": "code",
   "execution_count": null,
   "id": "51da78d1",
   "metadata": {},
   "outputs": [
    {
     "name": "stderr",
     "output_type": "stream",
     "text": [
      "INFO:     Started server process [45112]\n",
      "INFO:     Waiting for application startup.\n",
      "INFO:     Application startup complete.\n",
      "INFO:     Uvicorn running on http://0.0.0.0:8000 (Press CTRL+C to quit)\n"
     ]
    },
    {
     "name": "stdout",
     "output_type": "stream",
     "text": [
      "INFO:     192.168.0.10:52594 - \"POST /execute/tmpgedq6yo8.py HTTP/1.1\" 500 Internal Server Error\n"
     ]
    }
   ],
   "source": [
    "# Import necessary libraries\n",
    "from fastapi import FastAPI, HTTPException\n",
    "from minio import Minio\n",
    "from docker import from_env as docker_from_env\n",
    "import tempfile\n",
    "import uvicorn\n",
    "import nest_asyncio\n",
    "\n",
    "# Apply nest_asyncio patch\n",
    "nest_asyncio.apply()\n",
    "\n",
    "# Initialize FastAPI app\n",
    "app = FastAPI()\n",
    "\n",
    "# Configure MinIO client\n",
    "minio_client = Minio(\n",
    "    \"cda-DESKTOP:9000\",\n",
    "    access_key=\"cda_cdaprod\",\n",
    "    secret_key=\"cda_cdaprod\",\n",
    "    secure=False\n",
    ")\n",
    "\n",
    "# Configure Docker client\n",
    "docker_client = docker_from_env()\n",
    "\n",
    "# Define the FastAPI endpoint\n",
    "@app.post(\"/execute/{script_name}\")\n",
    "async def execute_script(script_name: str):\n",
    "    try:\n",
    "        # Retrieve script from MinIO\n",
    "        response = minio_client.get_object(\"python\", script_name)\n",
    "        script_content = response.read().decode('utf-8')\n",
    "\n",
    "        # Create a temporary file to store the script\n",
    "        with tempfile.NamedTemporaryFile(suffix=\".py\", delete=False) as script_file:\n",
    "            script_file.write(script_content.encode())\n",
    "            script_path = script_file.name\n",
    "\n",
    "        # Execute the script inside a Docker container\n",
    "        container = docker_client.containers.run(\n",
    "            image=\"python:3.8-slim\",  # Ensure this image has necessary packages installed\n",
    "            command=f\"python {script_path}\",\n",
    "            volumes={script_path: {'bind': script_path, 'mode': 'ro'}},\n",
    "            detach=True,\n",
    "            remove=True\n",
    "        )\n",
    "\n",
    "        # Wait for the container to finish and capture output\n",
    "        result = container.wait()\n",
    "        output = container.logs().decode('utf-8')\n",
    "\n",
    "    except Exception as e:\n",
    "        raise HTTPException(status_code=500, detail=str(e))\n",
    "\n",
    "    return {\"script_output\": output}\n",
    "\n",
    "# Run the FastAPI app within the notebook\n",
    "if __name__ == \"__main__\":\n",
    "    uvicorn.run(app, host=\"0.0.0.0\", port=8000)"
   ]
  },
  {
   "cell_type": "markdown",
   "id": "5983d05d",
   "metadata": {},
   "source": [
    "### Key Points:\n",
    "\n",
    "- **Temporary File**: The script retrieved from MinIO is stored in a temporary file. This file is then mounted and executed inside a Docker container.\n",
    "- **Docker Execution**: We use the `docker_client.containers.run` method to run the script inside a container based on a Python image. Adjust the image as needed to include any dependencies your scripts may require.\n",
    "- **Output Capture**: After the container finishes execution, we capture its logs as the script's output.\n",
    "- **Security and Cleanup**: Ensure the temporary file is securely handled and appropriately cleaned up after use. Additionally, consider security implications of executing arbitrary code and apply necessary safeguards.\n",
    "\n",
    "### Enhancements for Production Use:\n",
    "\n",
    "- **Authentication and Permissions**: Add authentication for the API and validate permissions for accessing specific scripts in MinIO.\n",
    "- **Error Handling**: Implement comprehensive error handling, including handling cases where the script execution fails or produces errors.\n",
    "- **Performance and Scaling**: Consider performance implications, especially for long-running scripts, and explore options for scaling the execution environment as needed.\n",
    "\n",
    "This example provides a foundation for building a system that executes Python scripts stored in MinIO on-demand, using Docker for execution isolation and streaming the output back through an API."
   ]
  }
 ],
 "metadata": {
  "kernelspec": {
   "display_name": "Python 3 (ipykernel)",
   "language": "python",
   "name": "python3"
  },
  "language_info": {
   "codemirror_mode": {
    "name": "ipython",
    "version": 3
   },
   "file_extension": ".py",
   "mimetype": "text/x-python",
   "name": "python",
   "nbconvert_exporter": "python",
   "pygments_lexer": "ipython3",
   "version": "3.9.13"
  }
 },
 "nbformat": 4,
 "nbformat_minor": 5
}
